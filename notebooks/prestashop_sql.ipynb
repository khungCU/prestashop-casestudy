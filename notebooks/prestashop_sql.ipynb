{
 "cells": [
  {
   "cell_type": "markdown",
   "id": "81996502-a8f4-4f49-9bc9-16875fad618a",
   "metadata": {},
   "source": [
    "# Doing the samething but with sparkSQL"
   ]
  },
  {
   "cell_type": "code",
   "execution_count": 1,
   "id": "cbda303e-b013-4965-9260-c7c624f330e5",
   "metadata": {},
   "outputs": [],
   "source": [
    "from pyspark.sql import SparkSession\n",
    "\n",
    "spark = SparkSession.builder \\\n",
    "                    .master('local[*]') \\\n",
    "                    .appName('spark-read-from-bigquery') \\\n",
    "                    .config('parentProject', 'khung-playground') \\\n",
    "                    .config('spark.jars', '../spark-bigquery-latest_2.12.jar') \\\n",
    "                    .config(\"credentialsFile\", \"../khung-playground-cb7110dd8c95.json\").getOrCreate()\n"
   ]
  },
  {
   "cell_type": "code",
   "execution_count": null,
   "id": "ddc098c3-9981-454e-8e3e-e71c3f87d6ce",
   "metadata": {},
   "outputs": [],
   "source": []
  },
  {
   "cell_type": "code",
   "execution_count": 2,
   "id": "3ebd152e-523e-4805-a446-8702935f77ed",
   "metadata": {},
   "outputs": [],
   "source": [
    "from pyspark.sql import DataFrame\n",
    "from pyspark.sql import functions as F\n",
    "\n",
    "def explode_nested_type(df: DataFrame, data_type = \"array\"):\n",
    "    \n",
    "    normal_column = []\n",
    "    to_be_explode_column = []\n",
    "    explode = []\n",
    "\n",
    "    for column in df.dtypes:\n",
    "        if column[1].startswith(data_type):\n",
    "            to_be_explode_column.append(column)\n",
    "        else:\n",
    "            normal_column.append(column[0])\n",
    "\n",
    "    # explode the column\n",
    "    for column in to_be_explode_column:\n",
    "        \n",
    "        if data_type == \"array\":\n",
    "            explode.append(F.explode(df[column[0]]).alias(column[0]))\n",
    "        elif data_type == \"struct\":\n",
    "            explode.append(F.col(f\"{column[0]}.*\"))\n",
    "\n",
    "    # put all back together\n",
    "    df = df.select(\n",
    "        *normal_column,\n",
    "        *explode\n",
    "    )\n",
    "    \n",
    "    return df"
   ]
  },
  {
   "cell_type": "code",
   "execution_count": null,
   "id": "37fd7eb8-bd20-4058-9c69-d136d84d8cac",
   "metadata": {},
   "outputs": [],
   "source": []
  },
  {
   "cell_type": "code",
   "execution_count": 3,
   "id": "c5e6d5e0-1722-403b-b91c-9f7e9ae58b66",
   "metadata": {},
   "outputs": [],
   "source": [
    "TABLE_LANGUAGE = \"khung-playground.github.languages\"\n",
    "TABLE_COMMIT = \"khung-playground.github.commits\"\n",
    "LANGUAGE = \"Python\""
   ]
  },
  {
   "cell_type": "code",
   "execution_count": null,
   "id": "b9064701-b874-4e00-97cb-809e9d1b99a2",
   "metadata": {},
   "outputs": [],
   "source": []
  },
  {
   "cell_type": "markdown",
   "id": "75761609-5050-4b89-9744-9f17d7c3ea4a",
   "metadata": {},
   "source": [
    "### Language Dataset"
   ]
  },
  {
   "cell_type": "code",
   "execution_count": 4,
   "id": "0c7f33e4-bdcc-417b-9205-dca1278b2acc",
   "metadata": {},
   "outputs": [],
   "source": [
    "# Creating DataFrames for language\n",
    "df_language = spark.read.format('bigquery').option('table', TABLE_LANGUAGE).load()"
   ]
  },
  {
   "cell_type": "code",
   "execution_count": 5,
   "id": "faf72dba-3dd5-4b0a-8844-2687978c6239",
   "metadata": {},
   "outputs": [],
   "source": [
    "df_language = explode_nested_type(df_language)\n",
    "df_language = explode_nested_type(df_language, \"struct\")"
   ]
  },
  {
   "cell_type": "code",
   "execution_count": 6,
   "id": "f5e16d84-c3bb-40ea-a0fc-aa017758d827",
   "metadata": {
    "tags": []
   },
   "outputs": [
    {
     "name": "stdout",
     "output_type": "stream",
     "text": [
      "root\n",
      " |-- repo_name: string (nullable = true)\n",
      " |-- name: string (nullable = true)\n",
      " |-- bytes: long (nullable = true)\n",
      "\n"
     ]
    }
   ],
   "source": [
    "df_language.printSchema()"
   ]
  },
  {
   "cell_type": "code",
   "execution_count": 7,
   "id": "e0924d39-a280-4156-9d4e-91ea937dc283",
   "metadata": {},
   "outputs": [],
   "source": [
    "df_language.createOrReplaceTempView(\"language\")"
   ]
  },
  {
   "cell_type": "code",
   "execution_count": 36,
   "id": "c52f76f7-9335-4bd1-9c13-7204a82058b8",
   "metadata": {},
   "outputs": [],
   "source": [
    "df_language = spark.sql(f'''\n",
    "    SELECT repo_name, name, bytes\n",
    "    FROM language \n",
    "    WHERE name == \"{LANGUAGE}\"\n",
    "    GROUP BY repo_name, name, bytes\n",
    "''')\n",
    "df_language.createOrReplaceTempView(\"language_dedup\")"
   ]
  },
  {
   "cell_type": "code",
   "execution_count": null,
   "id": "abb5dd1a-5203-4e2e-8e3b-4a391b9d2f12",
   "metadata": {},
   "outputs": [],
   "source": []
  },
  {
   "cell_type": "markdown",
   "id": "2abcf2aa-8ccb-4ed1-9ae9-0842d5738940",
   "metadata": {},
   "source": [
    "#### Commit Dataset"
   ]
  },
  {
   "cell_type": "code",
   "execution_count": 26,
   "id": "1966c23d-bd14-404b-b4b7-9db63b178a5b",
   "metadata": {},
   "outputs": [],
   "source": [
    "df_commit = spark.read.format('bigquery').option('table', TABLE_COMMIT).load()\n",
    "df_commit.createOrReplaceTempView(\"commit\")\n",
    "df_commit = spark.sql(\"\"\"\n",
    "    SELECT commit, committer, repo_name\n",
    "    FROM commit\n",
    "\"\"\")"
   ]
  },
  {
   "cell_type": "code",
   "execution_count": 31,
   "id": "98b9af92-c8a1-4b0b-bce5-f856823bea36",
   "metadata": {},
   "outputs": [],
   "source": [
    "df_commit = explode_nested_type(df_commit, \"struct\")\n",
    "df_commit.createOrReplaceTempView(\"commit_unnested\")"
   ]
  },
  {
   "cell_type": "code",
   "execution_count": 32,
   "id": "670e55ac-18ee-4e9d-8060-2b05009dfe69",
   "metadata": {},
   "outputs": [
    {
     "name": "stdout",
     "output_type": "stream",
     "text": [
      "root\n",
      " |-- commit: string (nullable = true)\n",
      " |-- repo_name: string (nullable = true)\n",
      " |-- name: string (nullable = true)\n",
      " |-- email: string (nullable = true)\n",
      " |-- time_sec: long (nullable = true)\n",
      " |-- tz_offset: long (nullable = true)\n",
      " |-- date: timestamp (nullable = true)\n",
      "\n"
     ]
    }
   ],
   "source": [
    "df_commit.printSchema()"
   ]
  },
  {
   "cell_type": "code",
   "execution_count": 33,
   "id": "ec9fd3df-d4b4-4f6c-bee0-a180d2cb01f2",
   "metadata": {},
   "outputs": [],
   "source": [
    "df_commit = spark.sql(\"\"\"\n",
    "    SELECT commit,\n",
    "           repo_name,\n",
    "           name as commiter_name,\n",
    "           email,\n",
    "           time_sec,\n",
    "           tz_offset,\n",
    "           date\n",
    "    FROM commit_unnested\n",
    "\"\"\")"
   ]
  },
  {
   "cell_type": "code",
   "execution_count": null,
   "id": "34b59254-15e5-4025-8628-e7dac54fb21d",
   "metadata": {},
   "outputs": [],
   "source": []
  },
  {
   "cell_type": "markdown",
   "id": "c6297a77-05ea-41e3-892a-080a3d157aa3",
   "metadata": {},
   "source": [
    "#### I aware there are records of commits are at exactally same time and same commiter, In my asscept this doesn't make sense so I see this as duplicate hence drop it.\n",
    "\n",
    "#### can not find dropDuplicates builtin finction in sparkSQL"
   ]
  },
  {
   "cell_type": "code",
   "execution_count": 35,
   "id": "609e9deb-c484-432a-a2c4-adaa0b5125b4",
   "metadata": {},
   "outputs": [],
   "source": [
    "duplicate_data = [\"commiter_name\", \"email\", \"time_sec\", \"tz_offset\", \"date\", \"repo_name\"]\n",
    "df_commit = df_commit.dropDuplicates(duplicate_data)\n",
    "df_commit.createOrReplaceTempView(\"commit_unnested_renamed\")"
   ]
  },
  {
   "cell_type": "code",
   "execution_count": null,
   "id": "7cc7b7dd-3f1a-40dc-855f-9de5f56fba90",
   "metadata": {},
   "outputs": [],
   "source": []
  },
  {
   "cell_type": "markdown",
   "id": "00e82fb3-4d06-4513-bfad-293d9f67aad3",
   "metadata": {},
   "source": [
    "#### Join df_language with df_commit"
   ]
  },
  {
   "cell_type": "code",
   "execution_count": 53,
   "id": "86bac54c-1596-4b61-af78-0cdc91e97038",
   "metadata": {},
   "outputs": [],
   "source": [
    "df_commit_language = spark.sql(\"\"\"\n",
    "    SELECT \n",
    "        cur.commiter_name,\n",
    "        cur.commit,\n",
    "        cur.email,\n",
    "        cur.time_sec,\n",
    "        cur.tz_offset,\n",
    "        cur.date,\n",
    "        cur.repo_name,\n",
    "        ld.name, \n",
    "        ld.bytes\n",
    "    FROM commit_unnested_renamed as cur\n",
    "    JOIN language_dedup as ld ON cur.repo_name == ld.repo_name\n",
    "\"\"\")\n",
    "df_commit_language.createOrReplaceTempView(\"commit_language_joined\")"
   ]
  },
  {
   "cell_type": "code",
   "execution_count": 55,
   "id": "4aacbdbb-54a9-4f8b-bade-610a6cfc9b44",
   "metadata": {},
   "outputs": [],
   "source": [
    "test = spark.sql(\"select * from commit_language_joined limit 10\")"
   ]
  },
  {
   "cell_type": "code",
   "execution_count": 56,
   "id": "1225accf-c3d3-47bc-95d0-20a37ee69104",
   "metadata": {},
   "outputs": [
    {
     "name": "stdout",
     "output_type": "stream",
     "text": [
      "root\n",
      " |-- commiter_name: string (nullable = true)\n",
      " |-- commit: string (nullable = true)\n",
      " |-- email: string (nullable = true)\n",
      " |-- time_sec: long (nullable = true)\n",
      " |-- tz_offset: long (nullable = true)\n",
      " |-- date: timestamp (nullable = true)\n",
      " |-- repo_name: string (nullable = true)\n",
      " |-- name: string (nullable = true)\n",
      " |-- bytes: long (nullable = true)\n",
      "\n"
     ]
    }
   ],
   "source": [
    "test.printSchema()"
   ]
  },
  {
   "cell_type": "markdown",
   "id": "a939c47f-4653-47de-8597-5fbb1f66b959",
   "metadata": {},
   "source": [
    "#### Window function on the merged data in order to calculate time distribution of two commits"
   ]
  },
  {
   "cell_type": "code",
   "execution_count": 59,
   "id": "b6837a82-87e2-43ef-9704-d12d8ac648b2",
   "metadata": {},
   "outputs": [],
   "source": [
    "df_commit_language_windowed = spark.sql(\"\"\"\n",
    "    select\n",
    "        commiter_name,\n",
    "        repo_name,\n",
    "        commit,\n",
    "        email,\n",
    "        time_sec,\n",
    "        tz_offset,\n",
    "        date,\n",
    "        name,\n",
    "        bytes,\n",
    "        row_number() over(PARTITION BY repo_name order by date) as commit_seq,\n",
    "        lag(time_sec) over(PARTITION BY repo_name order by date) as lag_time_sec\n",
    "    from commit_language_joined\n",
    "\"\"\")\n",
    "df_commit_language_windowed.createOrReplaceTempView(\"commit_language_windowed\")"
   ]
  },
  {
   "cell_type": "code",
   "execution_count": null,
   "id": "7ba8aba3-4a76-4d44-832d-a65ba4296424",
   "metadata": {},
   "outputs": [],
   "source": []
  },
  {
   "cell_type": "code",
   "execution_count": 60,
   "id": "c19e55fd-996e-4a8c-b674-8cbe8bb84602",
   "metadata": {},
   "outputs": [],
   "source": [
    "df_commit_language_windowed = spark.sql(\"\"\"\n",
    "    select\n",
    "        *,\n",
    "        time_sec - lag_time_sec as prv_time_diff\n",
    "    from commit_language_windowed\n",
    "\"\"\")"
   ]
  },
  {
   "cell_type": "code",
   "execution_count": null,
   "id": "3afa5278-fbee-443b-83cd-10d9047d0165",
   "metadata": {},
   "outputs": [],
   "source": []
  },
  {
   "cell_type": "code",
   "execution_count": 61,
   "id": "224afbaa-2fa0-4ade-933f-9158aee8eaa7",
   "metadata": {},
   "outputs": [
    {
     "name": "stdout",
     "output_type": "stream",
     "text": [
      "root\n",
      " |-- commiter_name: string (nullable = true)\n",
      " |-- repo_name: string (nullable = true)\n",
      " |-- commit: string (nullable = true)\n",
      " |-- email: string (nullable = true)\n",
      " |-- time_sec: long (nullable = true)\n",
      " |-- tz_offset: long (nullable = true)\n",
      " |-- date: timestamp (nullable = true)\n",
      " |-- name: string (nullable = true)\n",
      " |-- bytes: long (nullable = true)\n",
      " |-- commit_seq: integer (nullable = false)\n",
      " |-- lag_time_sec: long (nullable = true)\n",
      " |-- prv_time_diff: long (nullable = true)\n",
      "\n"
     ]
    }
   ],
   "source": [
    "df_commit_language_windowed.printSchema()"
   ]
  },
  {
   "cell_type": "code",
   "execution_count": 62,
   "id": "ef112fd9-86ba-4f9e-aa01-01cccdb58d91",
   "metadata": {},
   "outputs": [
    {
     "name": "stdout",
     "output_type": "stream",
     "text": [
      "+------------------+----------------+--------------------+--------------------+----------+---------+-------------------+------+-----+----------+------------+-------------+\n",
      "|     commiter_name|       repo_name|              commit|               email|  time_sec|tz_offset|               date|  name|bytes|commit_seq|lag_time_sec|prv_time_diff|\n",
      "+------------------+----------------+--------------------+--------------------+----------+---------+-------------------+------+-----+----------+------------+-------------+\n",
      "|       Erich Gamma|Microsoft/vscode|8f35cc4768393b254...|8c10e1560732a7a60...|1447421978|       60|2015-11-13 13:39:38|Python| 2405|         1|        null|         null|\n",
      "|        Chris Dias|Microsoft/vscode|6f9e2ae3907632e2f...|711c73f64afdce07b...|1447426118|       60|2015-11-13 14:48:38|Python| 2405|         2|  1447421978|         4140|\n",
      "|   Benjamin Pasero|Microsoft/vscode|0a2f0cbc5c7ebc457...|d377d17da589177b3...|1447428762|       60|2015-11-13 15:32:42|Python| 2405|         3|  1447426118|         2644|\n",
      "|   Johannes Rieken|Microsoft/vscode|b14fb980c2a2422d5...|302f5b27f327c7117...|1447429292|       60|2015-11-13 15:41:32|Python| 2405|         4|  1447428762|          530|\n",
      "|   Benjamin Pasero|Microsoft/vscode|cc9e65cea2d553920...|d377d17da589177b3...|1447431786|       60|2015-11-13 16:23:06|Python| 2405|         5|  1447429292|         2494|\n",
      "|   Johannes Rieken|Microsoft/vscode|d62a44820f684b5bc...|302f5b27f327c7117...|1447432312|       60|2015-11-13 16:31:52|Python| 2405|         6|  1447431786|          526|\n",
      "|Martin Aeschlimann|Microsoft/vscode|8f82b037fe9a5e821...|82189edb3c7ad296c...|1447435042|       60|2015-11-13 17:17:22|Python| 2405|         7|  1447432312|         2730|\n",
      "|Martin Aeschlimann|Microsoft/vscode|ef99de7936d45c419...|82189edb3c7ad296c...|1447435518|       60|2015-11-13 17:25:18|Python| 2405|         8|  1447435042|          476|\n",
      "|       Joao Moreno|Microsoft/vscode|a88ce614eb01ab2b1...|1d6e1cf70ec6f9ab2...|1447478329|       60|2015-11-14 05:18:49|Python| 2405|         9|  1447435518|        42811|\n",
      "|       Joao Moreno|Microsoft/vscode|bfa504cc35b905a4e...|1d6e1cf70ec6f9ab2...|1447479744|       60|2015-11-14 05:42:24|Python| 2405|        10|  1447478329|         1415|\n",
      "|        Chris Dias|Microsoft/vscode|ba90d01cdcac93461...|711c73f64afdce07b...|1447520763|       60|2015-11-14 17:06:03|Python| 2405|        11|  1447479744|        41019|\n",
      "|   Benjamin Pasero|Microsoft/vscode|4d275980f12682fd0...|d377d17da589177b3...|1447572639|       60|2015-11-15 07:30:39|Python| 2405|        12|  1447520763|        51876|\n",
      "|        Chris Dias|Microsoft/vscode|64eac8904d02290f2...|711c73f64afdce07b...|1447600584|       60|2015-11-15 15:16:24|Python| 2405|        13|  1447572639|        27945|\n",
      "|        Chris Dias|Microsoft/vscode|dc435dc0f0388b107...|711c73f64afdce07b...|1447600652|       60|2015-11-15 15:17:32|Python| 2405|        14|  1447600584|           68|\n",
      "|        Chris Dias|Microsoft/vscode|467ea004909739b19...|711c73f64afdce07b...|1447601265|       60|2015-11-15 15:27:45|Python| 2405|        15|  1447600652|          613|\n",
      "|        Chris Dias|Microsoft/vscode|0dd1d7e8bda2c99be...|711c73f64afdce07b...|1447615676|       60|2015-11-15 19:27:56|Python| 2405|        16|  1447601265|        14411|\n",
      "|        Chris Dias|Microsoft/vscode|80299a8d4902cd923...|711c73f64afdce07b...|1447620264|       60|2015-11-15 20:44:24|Python| 2405|        17|  1447615676|         4588|\n",
      "|        Chris Dias|Microsoft/vscode|2ebf742c9444b23f7...|711c73f64afdce07b...|1447621174|       60|2015-11-15 20:59:34|Python| 2405|        18|  1447620264|          910|\n",
      "|Martin Aeschlimann|Microsoft/vscode|a8c6596266df01acd...|82189edb3c7ad296c...|1447667322|       60|2015-11-16 09:48:42|Python| 2405|        19|  1447621174|        46148|\n",
      "|Martin Aeschlimann|Microsoft/vscode|889aba99dce295d70...|82189edb3c7ad296c...|1447667368|       60|2015-11-16 09:49:28|Python| 2405|        20|  1447667322|           46|\n",
      "+------------------+----------------+--------------------+--------------------+----------+---------+-------------------+------+-----+----------+------------+-------------+\n",
      "only showing top 20 rows\n",
      "\n"
     ]
    }
   ],
   "source": [
    "df_commit_language_windowed.show()"
   ]
  },
  {
   "cell_type": "code",
   "execution_count": null,
   "id": "ccb4bb46-2131-4e29-a9f4-a478cb642e1c",
   "metadata": {},
   "outputs": [],
   "source": []
  }
 ],
 "metadata": {
  "kernelspec": {
   "display_name": "Python 3 (ipykernel)",
   "language": "python",
   "name": "python3"
  },
  "language_info": {
   "codemirror_mode": {
    "name": "ipython",
    "version": 3
   },
   "file_extension": ".py",
   "mimetype": "text/x-python",
   "name": "python",
   "nbconvert_exporter": "python",
   "pygments_lexer": "ipython3",
   "version": "3.9.10"
  }
 },
 "nbformat": 4,
 "nbformat_minor": 5
}
