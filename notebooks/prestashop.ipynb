{
 "cells": [
  {
   "cell_type": "code",
   "execution_count": 1,
   "id": "ee07522b-0bf1-4b20-83b1-2c699e8a9be8",
   "metadata": {},
   "outputs": [],
   "source": [
    "from pyspark.sql import functions as F\n",
    "from pyspark.sql import DataFrame"
   ]
  },
  {
   "cell_type": "code",
   "execution_count": 2,
   "id": "4a3d6478-97e5-442b-978d-400171396c44",
   "metadata": {},
   "outputs": [
    {
     "data": {
      "text/plain": [
       "'\\nfrom pyspark.sql import SparkSession\\n\\nspark = SparkSession.builder                     .master(\\'local[*]\\')                     .appName(\\'spark-read-from-bigquery\\')                     .config(\\'parentProject\\', \\'khung-playground\\')                     .config(\"credentialsFile\", \"../khung-playground-cb7110dd8c95.json\").getOrCreate()\\n'"
      ]
     },
     "execution_count": 2,
     "metadata": {},
     "output_type": "execute_result"
    }
   ],
   "source": [
    "# Initializing SparkSession\n",
    "'''\n",
    "from pyspark.sql import SparkSession\n",
    "\n",
    "spark = SparkSession.builder \\\n",
    "                    .master('local[*]') \\\n",
    "                    .appName('spark-read-from-bigquery') \\\n",
    "                    .config('parentProject', 'khung-playground') \\\n",
    "                    .config(\"credentialsFile\", \"../khung-playground-cb7110dd8c95.json\").getOrCreate()\n",
    "'''"
   ]
  },
  {
   "cell_type": "code",
   "execution_count": 3,
   "id": "e6284cb6-5186-4cdb-9eb3-f9d104b7ca75",
   "metadata": {},
   "outputs": [],
   "source": [
    "### We can place the jar in /usr/local/spark-3.2.1-bin-hadoop3.2/jars/\n",
    "### Or define the jar when setting the builder like this\n",
    "from pyspark.sql import SparkSession\n",
    "\n",
    "spark = SparkSession.builder \\\n",
    "                    .master('local[*]') \\\n",
    "                    .appName('spark-read-from-bigquery') \\\n",
    "                    .config('parentProject', 'khung-playground') \\\n",
    "                    .config('spark.jars', '../spark-bigquery-latest_2.12.jar') \\\n",
    "                    .config(\"credentialsFile\", \"../khung-playground-cb7110dd8c95.json\").getOrCreate()"
   ]
  },
  {
   "cell_type": "code",
   "execution_count": 4,
   "id": "1d336185-7985-4619-b443-7e9da40f03e6",
   "metadata": {},
   "outputs": [
    {
     "data": {
      "text/html": [
       "\n",
       "            <div>\n",
       "                <p><b>SparkSession - in-memory</b></p>\n",
       "                \n",
       "        <div>\n",
       "            <p><b>SparkContext</b></p>\n",
       "\n",
       "            <p><a href=\"http://9a8f61dc969d:4040\">Spark UI</a></p>\n",
       "\n",
       "            <dl>\n",
       "              <dt>Version</dt>\n",
       "                <dd><code>v3.2.1</code></dd>\n",
       "              <dt>Master</dt>\n",
       "                <dd><code>local[*]</code></dd>\n",
       "              <dt>AppName</dt>\n",
       "                <dd><code>spark-read-from-bigquery</code></dd>\n",
       "            </dl>\n",
       "        </div>\n",
       "        \n",
       "            </div>\n",
       "        "
      ],
      "text/plain": [
       "<pyspark.sql.session.SparkSession at 0x7f005c5854f0>"
      ]
     },
     "execution_count": 4,
     "metadata": {},
     "output_type": "execute_result"
    }
   ],
   "source": [
    "spark"
   ]
  },
  {
   "cell_type": "code",
   "execution_count": null,
   "id": "1fdb4ec9-77de-452f-bd75-e25f9fa46aa9",
   "metadata": {},
   "outputs": [],
   "source": []
  },
  {
   "cell_type": "code",
   "execution_count": 4,
   "id": "57257b07-5502-4c43-a792-8690edfa8fa1",
   "metadata": {},
   "outputs": [],
   "source": [
    "TABLE_LANGUAGE = \"khung-playground.github.languages\"\n",
    "TABLE_COMMIT = \"khung-playground.github.commits\"\n",
    "LANGUAGE = \"Python\""
   ]
  },
  {
   "cell_type": "code",
   "execution_count": null,
   "id": "36e86e1f-c2d2-485a-8d20-ebe7cbafa7cf",
   "metadata": {},
   "outputs": [],
   "source": []
  },
  {
   "cell_type": "code",
   "execution_count": 5,
   "id": "30ef3c09-05fb-4f14-adea-861e9fe5fc1f",
   "metadata": {},
   "outputs": [],
   "source": [
    "def explode_nested_type(df: DataFrame, data_type = \"array\"):\n",
    "    \n",
    "    normal_column = []\n",
    "    to_be_explode_column = []\n",
    "    explode = []\n",
    "\n",
    "    for column in df.dtypes:\n",
    "        if column[1].startswith(data_type):\n",
    "            to_be_explode_column.append(column)\n",
    "        else:\n",
    "            normal_column.append(column[0])\n",
    "\n",
    "    # explode the column\n",
    "    for column in to_be_explode_column:\n",
    "        \n",
    "        if data_type == \"array\":\n",
    "            explode.append(F.explode(df[column[0]]).alias(column[0]))\n",
    "        elif data_type == \"struct\":\n",
    "            explode.append(F.col(f\"{column[0]}.*\"))\n",
    "\n",
    "    # put all back together\n",
    "    df = df.select(\n",
    "        *normal_column,\n",
    "        *explode\n",
    "    )\n",
    "    \n",
    "    return df"
   ]
  },
  {
   "cell_type": "code",
   "execution_count": null,
   "id": "b2f0045c-ff38-4432-80cf-52d36605d37f",
   "metadata": {},
   "outputs": [],
   "source": []
  },
  {
   "cell_type": "markdown",
   "id": "63183674-28df-4356-a0d5-20d50cf26e4a",
   "metadata": {},
   "source": [
    "### Language Dataset"
   ]
  },
  {
   "cell_type": "code",
   "execution_count": 6,
   "id": "4ace415c-bf90-4b39-8c7b-658675cc75b2",
   "metadata": {},
   "outputs": [],
   "source": [
    "# Creating DataFrames for language\n",
    "df_language = spark.read.format('bigquery').option('table', TABLE_LANGUAGE).load()"
   ]
  },
  {
   "cell_type": "code",
   "execution_count": 7,
   "id": "c0c6aecf-7dcf-4fac-9071-bf1413284afc",
   "metadata": {},
   "outputs": [],
   "source": [
    "df_language = explode_nested_type(df_language)\n",
    "df_language = explode_nested_type(df_language, \"struct\")"
   ]
  },
  {
   "cell_type": "code",
   "execution_count": 8,
   "id": "5c033b7d-dce0-474e-bf11-9a9be2529885",
   "metadata": {},
   "outputs": [
    {
     "name": "stdout",
     "output_type": "stream",
     "text": [
      "root\n",
      " |-- repo_name: string (nullable = true)\n",
      " |-- name: string (nullable = true)\n",
      " |-- bytes: long (nullable = true)\n",
      "\n"
     ]
    }
   ],
   "source": [
    "df_language.printSchema()"
   ]
  },
  {
   "cell_type": "code",
   "execution_count": 9,
   "id": "cb4bb204-5365-458a-b50f-59a2f3769ca7",
   "metadata": {},
   "outputs": [],
   "source": [
    "df_language = df_language.where(df_language[\"name\"] == LANGUAGE)"
   ]
  },
  {
   "cell_type": "code",
   "execution_count": 10,
   "id": "ea856ac6-cc64-4b3b-a777-71e1913901ca",
   "metadata": {},
   "outputs": [],
   "source": [
    "duplicate_data = [\"repo_name\", \"name\"]\n",
    "df_language = df_language.dropDuplicates(duplicate_data)"
   ]
  },
  {
   "cell_type": "code",
   "execution_count": null,
   "id": "b539f29d-4b3a-4709-bbb0-da7795d3c602",
   "metadata": {},
   "outputs": [],
   "source": []
  },
  {
   "cell_type": "markdown",
   "id": "0fda54cd-cf8e-4f05-9690-a90d6854aa3f",
   "metadata": {},
   "source": [
    "### Commit Dataset"
   ]
  },
  {
   "cell_type": "code",
   "execution_count": 28,
   "id": "e76153a0-52f1-4f4c-916c-8318a61fe781",
   "metadata": {},
   "outputs": [],
   "source": [
    "commit_columns = ['commit', 'committer', 'repo_name']\n",
    "df_commit = spark.read.format('bigquery').option('table', TABLE_COMMIT).load()\n",
    "df_commit = df_commit.select(*commit_columns)"
   ]
  },
  {
   "cell_type": "code",
   "execution_count": 29,
   "id": "0d094939-5f03-4bf8-90a4-52dd593b5cf5",
   "metadata": {},
   "outputs": [],
   "source": [
    "df_commit = explode_nested_type(df_commit, 'struct')\n",
    "df_commit = df_commit.withColumnRenamed(\"name\",\"commiter_name\")"
   ]
  },
  {
   "cell_type": "code",
   "execution_count": 30,
   "id": "5616774e-d820-475a-ba90-df2f30f88609",
   "metadata": {},
   "outputs": [
    {
     "name": "stdout",
     "output_type": "stream",
     "text": [
      "root\n",
      " |-- commit: string (nullable = true)\n",
      " |-- repo_name: string (nullable = true)\n",
      " |-- commiter_name: string (nullable = true)\n",
      " |-- email: string (nullable = true)\n",
      " |-- time_sec: long (nullable = true)\n",
      " |-- tz_offset: long (nullable = true)\n",
      " |-- date: timestamp (nullable = true)\n",
      "\n"
     ]
    }
   ],
   "source": [
    "df_commit.printSchema()"
   ]
  },
  {
   "cell_type": "markdown",
   "id": "3ad7c761-4329-4eaa-a099-13d0d255fbd6",
   "metadata": {},
   "source": [
    "#### I aware there are records of commits are at exactally same time and same commiter, In my asscept this doesn't make sense so I see this as duplicate hence drop it.  "
   ]
  },
  {
   "cell_type": "code",
   "execution_count": 32,
   "id": "747d5b3e-c627-459b-bbdb-b93bac93c5b4",
   "metadata": {},
   "outputs": [],
   "source": [
    "duplicate_data = [\"commiter_name\", \"email\", \"time_sec\", \"tz_offset\", \"date\", \"repo_name\"]\n",
    "df_commit = df_commit.dropDuplicates(duplicate_data)\n"
   ]
  },
  {
   "cell_type": "code",
   "execution_count": null,
   "id": "9f4b1b9f-517c-4d5c-937f-6f9bc773510f",
   "metadata": {},
   "outputs": [],
   "source": []
  },
  {
   "cell_type": "markdown",
   "id": "6d6a3eff-7c21-48a3-a390-71368263007c",
   "metadata": {},
   "source": [
    "#### Join df_language with df_commit"
   ]
  },
  {
   "cell_type": "code",
   "execution_count": 33,
   "id": "59b0c924-9bac-456e-98e7-0860ef175e4a",
   "metadata": {},
   "outputs": [],
   "source": [
    "df_commit_language = df_commit.join(df_language, on = [\"repo_name\"])"
   ]
  },
  {
   "cell_type": "code",
   "execution_count": 34,
   "id": "7d7cc625-d3ce-4e87-8679-d00eaacfb96a",
   "metadata": {},
   "outputs": [
    {
     "data": {
      "text/plain": [
       "DataFrame[repo_name: string, commit: string, commiter_name: string, email: string, time_sec: bigint, tz_offset: bigint, date: timestamp, name: string, bytes: bigint]"
      ]
     },
     "execution_count": 34,
     "metadata": {},
     "output_type": "execute_result"
    }
   ],
   "source": [
    "df_commit_language.cache()"
   ]
  },
  {
   "cell_type": "code",
   "execution_count": 35,
   "id": "01610172-a26f-423a-80e1-7d18420f49d5",
   "metadata": {},
   "outputs": [
    {
     "name": "stdout",
     "output_type": "stream",
     "text": [
      "root\n",
      " |-- repo_name: string (nullable = true)\n",
      " |-- commit: string (nullable = true)\n",
      " |-- commiter_name: string (nullable = true)\n",
      " |-- email: string (nullable = true)\n",
      " |-- time_sec: long (nullable = true)\n",
      " |-- tz_offset: long (nullable = true)\n",
      " |-- date: timestamp (nullable = true)\n",
      " |-- name: string (nullable = true)\n",
      " |-- bytes: long (nullable = true)\n",
      "\n"
     ]
    }
   ],
   "source": [
    "df_commit_language.printSchema()"
   ]
  },
  {
   "cell_type": "markdown",
   "id": "20541a76-3a81-41a5-b95b-c906d7fac3ec",
   "metadata": {},
   "source": [
    "#### Window function on the merged data in order to calculate time distribution of two commits"
   ]
  },
  {
   "cell_type": "code",
   "execution_count": 36,
   "id": "cd8f6feb-4676-49be-9228-e7ef73aab3df",
   "metadata": {},
   "outputs": [],
   "source": [
    "from pyspark.sql.window import Window\n",
    "\n",
    "partition_columns = [\"repo_name\"]\n",
    "windowSpec  = Window.partitionBy(partition_columns).orderBy(\"date\")\n",
    "\n",
    "df_commit_language = df_commit_language.withColumn(\"commit_seq\",F.row_number().over(windowSpec))\n",
    "df_commit_language = df_commit_language.withColumn(\"lag_time_sec\", F.lag(\"time_sec\", 1).over(windowSpec))\n",
    "df_commit_language = df_commit_language.withColumn(\"prv_time_diff\", df_commit_language[\"time_sec\"]  - df_commit_language[\"lag_time_sec\"])"
   ]
  },
  {
   "cell_type": "code",
   "execution_count": 37,
   "id": "e896ff67-ab96-4fdd-b54c-f943e30a0fd8",
   "metadata": {},
   "outputs": [
    {
     "name": "stdout",
     "output_type": "stream",
     "text": [
      "root\n",
      " |-- repo_name: string (nullable = true)\n",
      " |-- commit: string (nullable = true)\n",
      " |-- commiter_name: string (nullable = true)\n",
      " |-- email: string (nullable = true)\n",
      " |-- time_sec: long (nullable = true)\n",
      " |-- tz_offset: long (nullable = true)\n",
      " |-- date: timestamp (nullable = true)\n",
      " |-- name: string (nullable = true)\n",
      " |-- bytes: long (nullable = true)\n",
      " |-- commit_seq: integer (nullable = false)\n",
      " |-- lag_time_sec: long (nullable = true)\n",
      " |-- prv_time_diff: long (nullable = true)\n",
      "\n"
     ]
    }
   ],
   "source": [
    "df_commit_language.printSchema()"
   ]
  },
  {
   "cell_type": "code",
   "execution_count": 38,
   "id": "6462a802-6bdb-4750-bb85-9c87103cd155",
   "metadata": {},
   "outputs": [
    {
     "name": "stdout",
     "output_type": "stream",
     "text": [
      "+----------------+--------------------+------------------+--------------------+----------+---------+-------------------+------+-----+----------+------------+-------------+\n",
      "|       repo_name|              commit|     commiter_name|               email|  time_sec|tz_offset|               date|  name|bytes|commit_seq|lag_time_sec|prv_time_diff|\n",
      "+----------------+--------------------+------------------+--------------------+----------+---------+-------------------+------+-----+----------+------------+-------------+\n",
      "|Microsoft/vscode|8f35cc4768393b254...|       Erich Gamma|8c10e1560732a7a60...|1447421978|       60|2015-11-13 13:39:38|Python| 2405|         1|        null|         null|\n",
      "|Microsoft/vscode|6f9e2ae3907632e2f...|        Chris Dias|711c73f64afdce07b...|1447426118|       60|2015-11-13 14:48:38|Python| 2405|         2|  1447421978|         4140|\n",
      "|Microsoft/vscode|0a2f0cbc5c7ebc457...|   Benjamin Pasero|d377d17da589177b3...|1447428762|       60|2015-11-13 15:32:42|Python| 2405|         3|  1447426118|         2644|\n",
      "|Microsoft/vscode|e3281e77cb1b68478...|   Johannes Rieken|302f5b27f327c7117...|1447429292|       60|2015-11-13 15:41:32|Python| 2405|         4|  1447428762|          530|\n",
      "|Microsoft/vscode|cc9e65cea2d553920...|   Benjamin Pasero|d377d17da589177b3...|1447431786|       60|2015-11-13 16:23:06|Python| 2405|         5|  1447429292|         2494|\n",
      "|Microsoft/vscode|d62a44820f684b5bc...|   Johannes Rieken|302f5b27f327c7117...|1447432312|       60|2015-11-13 16:31:52|Python| 2405|         6|  1447431786|          526|\n",
      "|Microsoft/vscode|8f82b037fe9a5e821...|Martin Aeschlimann|82189edb3c7ad296c...|1447435042|       60|2015-11-13 17:17:22|Python| 2405|         7|  1447432312|         2730|\n",
      "|Microsoft/vscode|ef99de7936d45c419...|Martin Aeschlimann|82189edb3c7ad296c...|1447435518|       60|2015-11-13 17:25:18|Python| 2405|         8|  1447435042|          476|\n",
      "|Microsoft/vscode|a88ce614eb01ab2b1...|       Joao Moreno|1d6e1cf70ec6f9ab2...|1447478329|       60|2015-11-14 05:18:49|Python| 2405|         9|  1447435518|        42811|\n",
      "|Microsoft/vscode|bfa504cc35b905a4e...|       Joao Moreno|1d6e1cf70ec6f9ab2...|1447479744|       60|2015-11-14 05:42:24|Python| 2405|        10|  1447478329|         1415|\n",
      "|Microsoft/vscode|ba90d01cdcac93461...|        Chris Dias|711c73f64afdce07b...|1447520763|       60|2015-11-14 17:06:03|Python| 2405|        11|  1447479744|        41019|\n",
      "|Microsoft/vscode|4d275980f12682fd0...|   Benjamin Pasero|d377d17da589177b3...|1447572639|       60|2015-11-15 07:30:39|Python| 2405|        12|  1447520763|        51876|\n",
      "|Microsoft/vscode|64eac8904d02290f2...|        Chris Dias|711c73f64afdce07b...|1447600584|       60|2015-11-15 15:16:24|Python| 2405|        13|  1447572639|        27945|\n",
      "|Microsoft/vscode|dc435dc0f0388b107...|        Chris Dias|711c73f64afdce07b...|1447600652|       60|2015-11-15 15:17:32|Python| 2405|        14|  1447600584|           68|\n",
      "|Microsoft/vscode|467ea004909739b19...|        Chris Dias|711c73f64afdce07b...|1447601265|       60|2015-11-15 15:27:45|Python| 2405|        15|  1447600652|          613|\n",
      "|Microsoft/vscode|0dd1d7e8bda2c99be...|        Chris Dias|711c73f64afdce07b...|1447615676|       60|2015-11-15 19:27:56|Python| 2405|        16|  1447601265|        14411|\n",
      "|Microsoft/vscode|80299a8d4902cd923...|        Chris Dias|711c73f64afdce07b...|1447620264|       60|2015-11-15 20:44:24|Python| 2405|        17|  1447615676|         4588|\n",
      "|Microsoft/vscode|2ebf742c9444b23f7...|        Chris Dias|711c73f64afdce07b...|1447621174|       60|2015-11-15 20:59:34|Python| 2405|        18|  1447620264|          910|\n",
      "|Microsoft/vscode|a8c6596266df01acd...|Martin Aeschlimann|82189edb3c7ad296c...|1447667322|       60|2015-11-16 09:48:42|Python| 2405|        19|  1447621174|        46148|\n",
      "|Microsoft/vscode|889aba99dce295d70...|Martin Aeschlimann|82189edb3c7ad296c...|1447667368|       60|2015-11-16 09:49:28|Python| 2405|        20|  1447667322|           46|\n",
      "+----------------+--------------------+------------------+--------------------+----------+---------+-------------------+------+-----+----------+------------+-------------+\n",
      "only showing top 20 rows\n",
      "\n"
     ]
    }
   ],
   "source": [
    "df_commit_language.show()"
   ]
  },
  {
   "cell_type": "code",
   "execution_count": null,
   "id": "c09fcd0c-0315-4310-a35c-89478247fea8",
   "metadata": {},
   "outputs": [],
   "source": []
  },
  {
   "cell_type": "markdown",
   "id": "61a96a6d-8393-4275-b1bc-d5aa615d6156",
   "metadata": {},
   "source": [
    "#### Write back to filesystem"
   ]
  },
  {
   "cell_type": "code",
   "execution_count": 40,
   "id": "a1675118-e138-49bd-82a5-d5e247d15268",
   "metadata": {},
   "outputs": [],
   "source": [
    "import datetime\n",
    "\n",
    "\n",
    "write_file_date = str(datetime.datetime.today().date())\n",
    "file_name = f\"{LANGUAGE}_commits_{write_file_date}.parguet\"\n",
    "df_commit_language.write \\\n",
    "                  .mode(\"overwrite\") \\\n",
    "                  .parquet(f\"../spark_output/{file_name}\")\n",
    "                  "
   ]
  },
  {
   "cell_type": "code",
   "execution_count": null,
   "id": "e8bbd900-aa6a-426c-8b4a-503364d7e67e",
   "metadata": {},
   "outputs": [],
   "source": []
  },
  {
   "cell_type": "code",
   "execution_count": null,
   "id": "7df554cb-7ea5-41d7-8cd4-aa01857752f9",
   "metadata": {},
   "outputs": [],
   "source": []
  },
  {
   "cell_type": "markdown",
   "id": "3b6fe3d7-4aba-4535-920e-e3a36c06c0f8",
   "metadata": {},
   "source": [
    "#### To read the data I cleaned"
   ]
  },
  {
   "cell_type": "code",
   "execution_count": 44,
   "id": "add8d08d-417d-4ad1-9c7e-5941813e285b",
   "metadata": {},
   "outputs": [
    {
     "name": "stdout",
     "output_type": "stream",
     "text": [
      "+-----------+--------------------+-------------+--------------------+----------+---------+-------------------+------+-------+----------+------------+-------------+\n",
      "|  repo_name|              commit|commiter_name|               email|  time_sec|tz_offset|               date|  name|  bytes|commit_seq|lag_time_sec|prv_time_diff|\n",
      "+-----------+--------------------+-------------+--------------------+----------+---------+-------------------+------+-------+----------+------------+-------------+\n",
      "|apple/swift|18844bc65229786b9...|Chris Lattner|721a06c08c6174084...|1279410659|        0|2010-07-17 23:50:59|Python|1954012|         1|        null|         null|\n",
      "|apple/swift|afc81c1855bf71131...|Chris Lattner|721a06c08c6174084...|1279411451|        0|2010-07-18 00:04:11|Python|1954012|         2|  1279410659|          792|\n",
      "|apple/swift|5e88a2175579b0b2e...|Chris Lattner|721a06c08c6174084...|1279414087|        0|2010-07-18 00:48:07|Python|1954012|         3|  1279411451|         2636|\n",
      "|apple/swift|874badb51b8a12360...|Chris Lattner|721a06c08c6174084...|1279414229|        0|2010-07-18 00:50:29|Python|1954012|         4|  1279414087|          142|\n",
      "|apple/swift|db8e1301ff14af2a8...|Chris Lattner|721a06c08c6174084...|1279415649|        0|2010-07-18 01:14:09|Python|1954012|         5|  1279414229|         1420|\n",
      "|apple/swift|461f41edb1b62d41c...|Chris Lattner|721a06c08c6174084...|1279416734|        0|2010-07-18 01:32:14|Python|1954012|         6|  1279415649|         1085|\n",
      "|apple/swift|80ba9c7e66c95fcbb...|Chris Lattner|721a06c08c6174084...|1279417453|        0|2010-07-18 01:44:13|Python|1954012|         7|  1279416734|          719|\n",
      "|apple/swift|6236deaabc0a9f084...|Chris Lattner|721a06c08c6174084...|1279479432|        0|2010-07-18 18:57:12|Python|1954012|         8|  1279417453|        61979|\n",
      "|apple/swift|3cd9e4670547387f5...|Chris Lattner|721a06c08c6174084...|1279479678|        0|2010-07-18 19:01:18|Python|1954012|         9|  1279479432|          246|\n",
      "|apple/swift|05f5028b7ade4d6a6...|Chris Lattner|721a06c08c6174084...|1279484224|        0|2010-07-18 20:17:04|Python|1954012|        10|  1279479678|         4546|\n",
      "|apple/swift|5450892284e373703...|Chris Lattner|721a06c08c6174084...|1279486830|        0|2010-07-18 21:00:30|Python|1954012|        11|  1279484224|         2606|\n",
      "|apple/swift|15ed0a78d1d5e70f1...|Chris Lattner|721a06c08c6174084...|1279488666|        0|2010-07-18 21:31:06|Python|1954012|        12|  1279486830|         1836|\n",
      "|apple/swift|9460c31203b8050fe...|Chris Lattner|721a06c08c6174084...|1279488694|        0|2010-07-18 21:31:34|Python|1954012|        13|  1279488666|           28|\n",
      "|apple/swift|3e53d8387411500ce...|Chris Lattner|721a06c08c6174084...|1279492594|        0|2010-07-18 22:36:34|Python|1954012|        14|  1279488694|         3900|\n",
      "|apple/swift|66fe17ffdb60469a9...|Chris Lattner|721a06c08c6174084...|1279493711|        0|2010-07-18 22:55:11|Python|1954012|        15|  1279492594|         1117|\n",
      "|apple/swift|68a2d3a33c698093e...|Chris Lattner|721a06c08c6174084...|1279493953|        0|2010-07-18 22:59:13|Python|1954012|        16|  1279493711|          242|\n",
      "|apple/swift|c02e462b58ce58172...|Chris Lattner|721a06c08c6174084...|1279494047|        0|2010-07-18 23:00:47|Python|1954012|        17|  1279493953|           94|\n",
      "|apple/swift|8b9b84fe8e2e7dfcf...|Chris Lattner|721a06c08c6174084...|1279496444|        0|2010-07-18 23:40:44|Python|1954012|        18|  1279494047|         2397|\n",
      "|apple/swift|b45fe8abf5d32454d...|Chris Lattner|721a06c08c6174084...|1279497287|        0|2010-07-18 23:54:47|Python|1954012|        19|  1279496444|          843|\n",
      "|apple/swift|d3756f2627b3747d9...|Chris Lattner|721a06c08c6174084...|1279497911|        0|2010-07-19 00:05:11|Python|1954012|        20|  1279497287|          624|\n",
      "+-----------+--------------------+-------------+--------------------+----------+---------+-------------------+------+-------+----------+------------+-------------+\n",
      "only showing top 20 rows\n",
      "\n"
     ]
    }
   ],
   "source": [
    "df = spark.read.parquet(\"../spark_output/Python_commits_2022-03-02.parguet\")\n",
    "df.show()"
   ]
  },
  {
   "cell_type": "code",
   "execution_count": 43,
   "id": "30f4dea0-60e1-4f1b-a5ca-80fa362b5bb7",
   "metadata": {},
   "outputs": [
    {
     "data": {
      "text/plain": [
       "DataFrame[repo_name: string, commit: string, commiter_name: string, email: string, time_sec: bigint, tz_offset: bigint, date: timestamp, name: string, bytes: bigint, commit_seq: int, lag_time_sec: bigint, prv_time_diff: bigint]"
      ]
     },
     "execution_count": 43,
     "metadata": {},
     "output_type": "execute_result"
    }
   ],
   "source": []
  },
  {
   "cell_type": "code",
   "execution_count": null,
   "id": "3b583808-7b0c-4bf3-ab50-2b3a8f1a443f",
   "metadata": {},
   "outputs": [],
   "source": []
  }
 ],
 "metadata": {
  "kernelspec": {
   "display_name": "Python 3 (ipykernel)",
   "language": "python",
   "name": "python3"
  },
  "language_info": {
   "codemirror_mode": {
    "name": "ipython",
    "version": 3
   },
   "file_extension": ".py",
   "mimetype": "text/x-python",
   "name": "python",
   "nbconvert_exporter": "python",
   "pygments_lexer": "ipython3",
   "version": "3.9.10"
  }
 },
 "nbformat": 4,
 "nbformat_minor": 5
}
